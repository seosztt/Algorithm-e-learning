{
 "cells": [
  {
   "cell_type": "code",
   "execution_count": 1,
   "id": "e47873b8",
   "metadata": {},
   "outputs": [],
   "source": [
    "# 선택정렬\n",
    "array=[7,5,9,0,3,1,6,2,4,8]\n",
    "\n",
    "for i in range(len(array)):\n",
    "    min_index=i\n",
    "    for j in range(i+1, len(array)):\n",
    "        if array[min_index]>array[j]:\n",
    "            min_index=j\n",
    "    array[i], array[min_index]=array[min_index], array[i]"
   ]
  },
  {
   "cell_type": "code",
   "execution_count": null,
   "id": "99d3f1d5",
   "metadata": {},
   "outputs": [],
   "source": [
    "# 삽입정렬\n",
    "array=[7,5,9,0,3,1,6,2,4,8]\n",
    "\n",
    "for i in range(1, len(array)):\n",
    "    for j in range(i,0,-1):\n",
    "        if array[j]<array[j-1]:\n",
    "            array[j], array[j-1]=array[j-1], array[j]\n",
    "        else:\n",
    "            break\n",
    "print(array)"
   ]
  },
  {
   "cell_type": "code",
   "execution_count": 3,
   "id": "22ddc44a",
   "metadata": {},
   "outputs": [
    {
     "name": "stdout",
     "output_type": "stream",
     "text": [
      "[0, 1, 2, 3, 4, 5, 6, 7, 8, 9]\n"
     ]
    }
   ],
   "source": [
    "# 퀵 정렬\n",
    "array=[5,7,9,0,3,1,6,2,4,8]\n",
    "\n",
    "def quick_sort(array, start, end):\n",
    "    if start>=end:\n",
    "        return\n",
    "    pivot=start\n",
    "    left=start+1\n",
    "    right=end\n",
    "    while(left<=right):\n",
    "        while(left<=end and array[left]<=array[pivot]):\n",
    "            left+=1\n",
    "        while(right>start and array[right]>=array[pivot]):\n",
    "            right-=1\n",
    "        if(left>right):\n",
    "            array[right], array[pivot]=array[pivot], array[right]\n",
    "        else:\n",
    "            array[left], array[right]=array[right], array[left]\n",
    "    quick_sort(array, start, right -1)\n",
    "    quick_sort(array, right+1, end)\n",
    "    \n",
    "quick_sort(array,0,len(array)-1)\n",
    "print(array)"
   ]
  },
  {
   "cell_type": "code",
   "execution_count": 4,
   "id": "9a571266",
   "metadata": {},
   "outputs": [
    {
     "name": "stdout",
     "output_type": "stream",
     "text": [
      "[0, 1, 2, 3, 4, 5, 6, 7, 8, 9]\n"
     ]
    }
   ],
   "source": [
    "# 퀵 정렬:파이썬의 장점을 살린 방식\n",
    "array=[5,7,9,0,3,1,6,2,4,8]\n",
    "\n",
    "def quick_sort(array):\n",
    "    if len(array)<=1:\n",
    "        return array\n",
    "    pivot=array[0]\n",
    "    tail=array[1:]\n",
    "    \n",
    "    left_side=[x for x in tail if x <=pivot]\n",
    "    right_side=[x for x in tail if x > pivot]\n",
    "    \n",
    "    return quick_sort(left_side)+[pivot]+quick_sort(right_side)\n",
    "\n",
    "print(quick_sort(array))"
   ]
  },
  {
   "cell_type": "code",
   "execution_count": 5,
   "id": "044e34d6",
   "metadata": {},
   "outputs": [
    {
     "name": "stdout",
     "output_type": "stream",
     "text": [
      "0 0 1 1 2 2 3 4 5 5 6 7 8 9 9 "
     ]
    }
   ],
   "source": [
    "# 계수 정렬\n",
    "array=[7,5,9,0,3,1,6,2,9,1,4,8,0,5,2]\n",
    "\n",
    "count=[0]*(max(array)+1)\n",
    "\n",
    "for i in range(len(array)):\n",
    "    count[array[i]] +=1\n",
    "\n",
    "for i in range(len(count)):\n",
    "    for j in range(count[i]):\n",
    "        print(i, end=' ')"
   ]
  },
  {
   "cell_type": "code",
   "execution_count": 50,
   "id": "1bf82404",
   "metadata": {},
   "outputs": [],
   "source": [
    "# 문제풀이 My solution\n",
    "A=[1,2,5,4,3]\n",
    "B=[5,5,6,6,5]\n",
    "k=3\n",
    "def maxsum(A,B,k):\n",
    "    n=len(A)\n",
    "    A=sorted(A)\n",
    "    B=sorted(B)\n",
    "    for i in range(k):\n",
    "        if A[i]<B[-1-i]:\n",
    "            A[i]=B[-1-i]\n",
    "        else:\n",
    "            break\n",
    "    return sum(A)"
   ]
  },
  {
   "cell_type": "code",
   "execution_count": 51,
   "id": "31a6b4a2",
   "metadata": {},
   "outputs": [
    {
     "data": {
      "text/plain": [
       "26"
      ]
     },
     "execution_count": 51,
     "metadata": {},
     "output_type": "execute_result"
    }
   ],
   "source": [
    "maxsum(A,B,k)"
   ]
  }
 ],
 "metadata": {
  "kernelspec": {
   "display_name": "Python 3 (ipykernel)",
   "language": "python",
   "name": "python3"
  },
  "language_info": {
   "codemirror_mode": {
    "name": "ipython",
    "version": 3
   },
   "file_extension": ".py",
   "mimetype": "text/x-python",
   "name": "python",
   "nbconvert_exporter": "python",
   "pygments_lexer": "ipython3",
   "version": "3.8.8"
  },
  "toc": {
   "base_numbering": 1,
   "nav_menu": {},
   "number_sections": true,
   "sideBar": true,
   "skip_h1_title": false,
   "title_cell": "Table of Contents",
   "title_sidebar": "Contents",
   "toc_cell": false,
   "toc_position": {},
   "toc_section_display": true,
   "toc_window_display": false
  }
 },
 "nbformat": 4,
 "nbformat_minor": 5
}
