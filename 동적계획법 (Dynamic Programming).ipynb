{
 "cells": [
  {
   "cell_type": "markdown",
   "id": "cc0397e5",
   "metadata": {
    "heading_collapsed": true
   },
   "source": [
    "# 피보나치 수열"
   ]
  },
  {
   "cell_type": "markdown",
   "id": "9a404c65",
   "metadata": {
    "hidden": true
   },
   "source": [
    "## 단순 재귀 소스코드"
   ]
  },
  {
   "cell_type": "code",
   "execution_count": 3,
   "id": "9f46893c",
   "metadata": {
    "hidden": true,
    "scrolled": true
   },
   "outputs": [
    {
     "name": "stdout",
     "output_type": "stream",
     "text": [
      "3\n"
     ]
    }
   ],
   "source": [
    "# 피보나치 함수(Fibonacci Function)을 재귀함수로 구현\n",
    "def fibo(x):\n",
    "    if x == 1 or x == 2:\n",
    "        return 1\n",
    "    return fibo(x - 1) + fibo(x - 2)\n",
    "\n",
    "print(fibo(4))"
   ]
  },
  {
   "cell_type": "code",
   "execution_count": 8,
   "id": "fb6b9c82",
   "metadata": {
    "hidden": true
   },
   "outputs": [
    {
     "data": {
      "text/plain": [
       "9227465"
      ]
     },
     "execution_count": 8,
     "metadata": {},
     "output_type": "execute_result"
    }
   ],
   "source": [
    "fibo(35)"
   ]
  },
  {
   "cell_type": "markdown",
   "id": "fb80e04f",
   "metadata": {
    "hidden": true
   },
   "source": [
    "## 탑다운 다이나믹 프로그래밍 소스코드"
   ]
  },
  {
   "cell_type": "code",
   "execution_count": 24,
   "id": "18e6221a",
   "metadata": {
    "hidden": true
   },
   "outputs": [],
   "source": [
    "d=[0]*2023\n",
    "def fibo(x):\n",
    "    if x==1 or x==2:\n",
    "        return 1\n",
    "    if d[x] !=0:\n",
    "        return d[x]\n",
    "    d[x]=fibo(x-1) + fibo(x-2)\n",
    "    return d[x]"
   ]
  },
  {
   "cell_type": "code",
   "execution_count": 25,
   "id": "b85f8425",
   "metadata": {
    "hidden": true
   },
   "outputs": [
    {
     "data": {
      "text/plain": [
       "167310648784659280728144836725590014814177400797476760876753704080114260114536495380135014244628641540465009479015934299376306193238817784129405465804445140758993423687143146613390123354557936785042721146861530732824681611737331775039385078670522766530356710254069894988375176317365030278080713218413201048678360636199830514037131301419749286901789895779518426772646405033423571360115994228553098871046696520981384561779336"
      ]
     },
     "execution_count": 25,
     "metadata": {},
     "output_type": "execute_result"
    }
   ],
   "source": [
    "fibo(2022)"
   ]
  },
  {
   "cell_type": "markdown",
   "id": "d0dfe44d",
   "metadata": {
    "hidden": true
   },
   "source": [
    "## 보텀업 다이나믹 프로그래밍 소스코드"
   ]
  },
  {
   "cell_type": "code",
   "execution_count": 29,
   "id": "2169e599",
   "metadata": {
    "hidden": true
   },
   "outputs": [
    {
     "name": "stdout",
     "output_type": "stream",
     "text": [
      "33644764876431783266621612005107543310302148460680063906564769974680081442166662368155595513633734025582065332680836159373734790483865268263040892463056431887354544369559827491606602099884183933864652731300088830269235673613135117579297437854413752130520504347701602264758318906527890855154366159582987279682987510631200575428783453215515103870818298969791613127856265033195487140214287532698187962046936097879900350962302291026368131493195275630227837628441540360584402572114334961180023091208287046088923962328835461505776583271252546093591128203925285393434620904245248929403901706233888991085841065183173360437470737908552631764325733993712871937587746897479926305837065742830161637408969178426378624212835258112820516370298089332099905707920064367426202389783111470054074998459250360633560933883831923386783056136435351892133279732908133732642652633989763922723407882928177953580570993691049175470808931841056146322338217465637321248226383092103297701648054726243842374862411453093812206564914032751086643394517512161526545361333111314042436854805106765843493523836959653428071768775328348234345557366719731392746273629108210679280784718035329131176778924659089938635459327894523777674406192240337638674004021330343297496902028328145933418826817683893072003634795623117103101291953169794607632737589253530772552375943788434504067715555779056450443016640119462580972216729758615026968443146952034614932291105970676243268515992834709891284706740862008587135016260312071903172086094081298321581077282076353186624611278245537208532365305775956430072517744315051539600905168603220349163222640885248852433158051534849622434848299380905070483482449327453732624567755879089187190803662058009594743150052402532709746995318770724376825907419939632265984147498193609285223945039707165443156421328157688908058783183404917434556270520223564846495196112460268313970975069382648706613264507665074611512677522748621598642530711298441182622661057163515069260029861704945425047491378115154139941550671256271197133252763631939606902895650288268608362241082050562430701794976171121233066073310059947366875\n"
     ]
    }
   ],
   "source": [
    "# 앞서 계산된 결과를 저장하기 위한 DP 테이블 초기화\n",
    "d = [0] * 10001\n",
    "\n",
    "# 첫 번째 피보나치 수와 두 번째 피보나치 수는 1\n",
    "d[1] = 1\n",
    "d[2] = 1\n",
    "n = 10000\n",
    "\n",
    "# 피보나치 함수(fibonacci Function) 반복문으로 구현(보텀업 다이나믹 프로그래밍)\n",
    "for i in range(3, n+1):\n",
    "    d[i] = d[i - 1] + d[i -2]\n",
    "    \n",
    "print(d[n])"
   ]
  },
  {
   "cell_type": "markdown",
   "id": "76f3243e",
   "metadata": {
    "hidden": true
   },
   "source": [
    "## 메모이제이션 동작 분석"
   ]
  },
  {
   "cell_type": "code",
   "execution_count": 30,
   "id": "e70cf703",
   "metadata": {
    "hidden": true,
    "scrolled": true
   },
   "outputs": [
    {
     "name": "stdout",
     "output_type": "stream",
     "text": [
      "f(6) f(5) f(4) f(3) f(2) f(1) f(2) f(3) f(4) "
     ]
    },
    {
     "data": {
      "text/plain": [
       "8"
      ]
     },
     "execution_count": 30,
     "metadata": {},
     "output_type": "execute_result"
    }
   ],
   "source": [
    "d = [0] * 100\n",
    "\n",
    "def fibo(x):\n",
    "    print('f(' + str(x) + ')', end=' ')\n",
    "    if x == 1 or x == 2:\n",
    "        return 1\n",
    "    if d[x] != 0:\n",
    "        return d[x]\n",
    "    d[x] = fibo(x-1) + fibo(x - 2)\n",
    "    return d[x]\n",
    "\n",
    "fibo(6)"
   ]
  },
  {
   "cell_type": "markdown",
   "id": "ef473768",
   "metadata": {},
   "source": [
    "# 다양한 동적계획법 문제 풀이"
   ]
  },
  {
   "cell_type": "markdown",
   "id": "0c5badb0",
   "metadata": {},
   "source": [
    "## 개미 전사"
   ]
  },
  {
   "cell_type": "code",
   "execution_count": 39,
   "id": "86e221e3",
   "metadata": {},
   "outputs": [
    {
     "name": "stdout",
     "output_type": "stream",
     "text": [
      "4\n",
      "1 3 1 5\n",
      "8\n"
     ]
    }
   ],
   "source": [
    "# 정수 N을 받기\n",
    "n = int(input())\n",
    "# 모든 식량 정보 입력 받기\n",
    "k = list(map(int, input().split()))\n",
    "\n",
    "# 앞서 계산된 결과를 저장하기 위한 DP 테이블 초기화\n",
    "d=[0]*n\n",
    "\n",
    "# 다이나믹 프로그래밍(Dynamic Programming) 진행 (보텀업)\n",
    "d[0]=k[0]\n",
    "d[1]=max(k[0], k[1])\n",
    "for i in range(2,n):\n",
    "    d[i]=max(d[i-1], d[i-2]+k[i])\n",
    "\n",
    "# 계산된 결과 출력\n",
    "print(d[n-1])"
   ]
  },
  {
   "cell_type": "markdown",
   "id": "743b225a",
   "metadata": {},
   "source": [
    "## 1로 만들기"
   ]
  },
  {
   "cell_type": "code",
   "execution_count": 1,
   "id": "503c28d6",
   "metadata": {},
   "outputs": [
    {
     "name": "stdout",
     "output_type": "stream",
     "text": [
      "1000\n",
      "6\n"
     ]
    }
   ],
   "source": [
    "x = int(input())\n",
    "\n",
    "d=[0]*(x+1)\n",
    "\n",
    "for i in range(2, x+1):\n",
    "    two=1e9\n",
    "    three=1e9\n",
    "    five=1e9\n",
    "    if i%5==0:\n",
    "        five=d[i//5]+1\n",
    "    if i%3==0:\n",
    "        three=d[i//3]+1\n",
    "    if i%2==0:\n",
    "        two=d[i//2]+1\n",
    "    d[i]=min(d[i-1]+1, two, three, five)\n",
    "    \n",
    "print(d[x])"
   ]
  },
  {
   "cell_type": "code",
   "execution_count": 3,
   "id": "b1e8db33",
   "metadata": {},
   "outputs": [
    {
     "name": "stdout",
     "output_type": "stream",
     "text": [
      "1000\n",
      "6\n"
     ]
    }
   ],
   "source": [
    "# 강의 코드\n",
    "# 정수 x를 입력 받기\n",
    "x = int(input())\n",
    "\n",
    "# 앞서 계산된 결과를 저장하기 위한 DP 테이블 초기화\n",
    "d=[0]*30001\n",
    "\n",
    "# 다이나믹 프로그래밍(Dynamic Programming) 진행 (보텀업)\n",
    "for i in range(2, x+1):\n",
    "    # 현재 수에서 1을 빼는 경우\n",
    "    d[i] = d[i-1] + 1\n",
    "    # 현재의 수가 5로 나누어 떨어지는 경우\n",
    "    if i%5==0:\n",
    "        d[i] = min(d[i], d[i//5]+1)\n",
    "    # 현재의 수가 3로 나누어 떨어지는 경우\n",
    "    if i%3==0:\n",
    "        d[i] = min(d[i], d[i//3]+1)\n",
    "    # 현재의 수가 2로 나누어 떨어지는 경우\n",
    "    if i%2==0:\n",
    "        d[i] = min(d[i], d[i//2]+1)\n",
    "    \n",
    "print(d[x])"
   ]
  },
  {
   "cell_type": "markdown",
   "id": "6b19f077",
   "metadata": {},
   "source": [
    "## 효율적인 화폐 구성"
   ]
  },
  {
   "cell_type": "code",
   "execution_count": 43,
   "id": "681ee511",
   "metadata": {
    "scrolled": true
   },
   "outputs": [
    {
     "name": "stdout",
     "output_type": "stream",
     "text": [
      "3 7\n",
      "2\n",
      "3\n",
      "5\n",
      "2\n"
     ]
    }
   ],
   "source": [
    "# 점수 N, M을 입력 받기\n",
    "n, m = map(int, input().split())\n",
    "\n",
    "# N개의 화폐 단위 정보를 입력받기\n",
    "L=[]\n",
    "for i in range(n):\n",
    "    L.append(int(input()))\n",
    "\n",
    "# 한 번 계산된 결과를 저장하기 위한 DP 테이블 초기화\n",
    "d=[10001] * (m+1)\n",
    "\n",
    "# 다이나믹 프로그래밍 진행 (보텀업)\n",
    "d[0]=0\n",
    "for i in range(n):\n",
    "    for j in range(L[i], m+1):\n",
    "        if d[j - L[i]] !=10001: # (i-k)원을 만드는 방법이 존재하는 경우\n",
    "            d[j] = min(d[j], d[j-L[i]] + 1)\n",
    "\n",
    "# 계산된 결과 출력\n",
    "if d[m] == 10001:\n",
    "    print(-1)\n",
    "else:\n",
    "    print(d[m])"
   ]
  },
  {
   "cell_type": "markdown",
   "id": "599ea14c",
   "metadata": {},
   "source": [
    "## 금광"
   ]
  },
  {
   "cell_type": "code",
   "execution_count": 56,
   "id": "e93be5fa",
   "metadata": {},
   "outputs": [
    {
     "name": "stdout",
     "output_type": "stream",
     "text": [
      "1\n",
      "3 4\n",
      "1 3 3 2 2 1 4 1 0 6 4 7\n",
      "19\n"
     ]
    }
   ],
   "source": [
    "t=int(input())\n",
    "n, m = map(int, input().split())\n",
    "\n",
    "gold=list(map(int, input().split()))\n",
    "\n",
    "L=[]\n",
    "for i in range(m):\n",
    "    temp=[]\n",
    "    for j in range(n):\n",
    "        temp.append(gold[i+m*j])\n",
    "    L.append(temp)\n",
    "    \n",
    "result=0\n",
    "for i in L:\n",
    "    result+=max(i)\n",
    "    \n",
    "print(result)"
   ]
  },
  {
   "cell_type": "code",
   "execution_count": 57,
   "id": "cedd2171",
   "metadata": {
    "scrolled": true
   },
   "outputs": [
    {
     "name": "stdout",
     "output_type": "stream",
     "text": [
      "1\n",
      "3 4\n",
      "1 3 3 2 2 1 4 1 0 6 4 7\n",
      "19\n"
     ]
    }
   ],
   "source": [
    "# 테스트 케이스(Test Case) 입력\n",
    "for tc in range(int(input())):\n",
    "    # 금광 정보 입력\n",
    "    n, m = map(int, input().split())\n",
    "    array = list(map(int, input().split()))\n",
    "    # 다이나믹 프로그래밍을 위한 2차원 DP 테이블 초기화\n",
    "    dp=[]\n",
    "    index=0\n",
    "    for i in range(n):\n",
    "        dp.append(array[index:index+m])\n",
    "        index += m\n",
    "    # 다이나믹 프로그래밍 진행\n",
    "    for j in range(1, m):\n",
    "        for i in range(n):\n",
    "            # 왼쪽 위에서 오는 경우\n",
    "            if i == 0: left_up = 0\n",
    "            else: left_up = dp[i-1][j-1]\n",
    "            # 왼쪽 아래에서 오는 경우\n",
    "            if i == n-1: left_down = 0\n",
    "            else: left_down = dp[i+1][j-1]\n",
    "            # 왼쪽에서 오는 경우\n",
    "            left = dp[i][j-1]\n",
    "            dp[i][j] = dp[i][j] + max(left_up, left_down, left)\n",
    "    result = 0\n",
    "    for i in range(n):\n",
    "        result = max(result, dp[i][m - 1])\n",
    "    print(result)\n",
    "            "
   ]
  },
  {
   "cell_type": "markdown",
   "id": "2dff6505",
   "metadata": {},
   "source": [
    "## 병사 배치하기"
   ]
  },
  {
   "cell_type": "markdown",
   "id": "ce92514c",
   "metadata": {},
   "source": [
    "- 가장 긴 증가하는 부분 수열(Longest Increasing Subsequence, LIS)"
   ]
  },
  {
   "cell_type": "code",
   "execution_count": 58,
   "id": "012cccd3",
   "metadata": {},
   "outputs": [
    {
     "name": "stdout",
     "output_type": "stream",
     "text": [
      "7\n",
      "15 11 4 8 5 2 4\n",
      "2\n"
     ]
    }
   ],
   "source": [
    "n = int(input())\n",
    "array = list(map(int, input().split()))\n",
    "# 순서를 뒤집어 '최장 증가 부분 수열' 문제로 변환\n",
    "array.reverse()\n",
    "\n",
    "# 다이나믹 프로그래밍을 위한 1차면 DP 테이블 초기화\n",
    "dp = [1] * n\n",
    "\n",
    "# 가장 긴 증가하는 부분 수열 (LIS) 알고리즘 수행\n",
    "for i in range(1, n):\n",
    "    for j in range(0, i):\n",
    "        if array[j] < array[i]:\n",
    "            dp[i] = max(dp[i], dp[j] + 1)\n",
    "            \n",
    "# 열외해야 하는 병사의 최소 수를 출력\n",
    "print(n - max(dp))"
   ]
  }
 ],
 "metadata": {
  "kernelspec": {
   "display_name": "Python 3 (ipykernel)",
   "language": "python",
   "name": "python3"
  },
  "language_info": {
   "codemirror_mode": {
    "name": "ipython",
    "version": 3
   },
   "file_extension": ".py",
   "mimetype": "text/x-python",
   "name": "python",
   "nbconvert_exporter": "python",
   "pygments_lexer": "ipython3",
   "version": "3.8.8"
  },
  "toc": {
   "base_numbering": 1,
   "nav_menu": {},
   "number_sections": true,
   "sideBar": true,
   "skip_h1_title": false,
   "title_cell": "Table of Contents",
   "title_sidebar": "Contents",
   "toc_cell": false,
   "toc_position": {},
   "toc_section_display": true,
   "toc_window_display": false
  }
 },
 "nbformat": 4,
 "nbformat_minor": 5
}
