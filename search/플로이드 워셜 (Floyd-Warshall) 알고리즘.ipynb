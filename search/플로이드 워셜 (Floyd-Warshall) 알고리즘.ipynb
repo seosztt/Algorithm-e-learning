{
 "cells": [
  {
   "cell_type": "markdown",
   "id": "7dd649db",
   "metadata": {},
   "source": [
    "# 플로이드 워셜 (Floyd-Warshall) 알고리즘"
   ]
  },
  {
   "cell_type": "code",
   "execution_count": 1,
   "id": "74c9cc2b",
   "metadata": {},
   "outputs": [
    {
     "name": "stdout",
     "output_type": "stream",
     "text": [
      "4\n",
      "7\n",
      "1 2 4\n",
      "1 4 6\n",
      "2 1 3\n",
      "2 3 7\n",
      "3 1 5\n",
      "3 4 4\n",
      "4 3 2\n",
      "0 4 8 6 \n",
      "3 0 7 9 \n",
      "5 9 0 4 \n",
      "7 11 2 0 \n"
     ]
    }
   ],
   "source": [
    "INF = int(1e9) # 무한을 의미하는 값으로 10억을 설정\n",
    "\n",
    "# 노드의 개수 및 간선의 개수를 입력받기\n",
    "n = int(input())\n",
    "m = int(input())\n",
    "# 2차원 리스트(그래프 표현)를 만들고, 무한으로 초기화\n",
    "graph = [[INF] * (n+1) for _ in range(n+1)]\n",
    "\n",
    "# 자기 자신에서 자기 자신으로 가는 비용은 0으로 초기화\n",
    "for a in range(1, n+1):\n",
    "    for b in range(1, n+1):\n",
    "        if a == b:\n",
    "            graph[a][b]=0\n",
    "            \n",
    "# 각 간선에 대한 정보를 입력 받아, 그 값으로 초기화\n",
    "for _ in range(m):\n",
    "    # A에서 B로 가는 비용은 C라고 설정\n",
    "    a, b, c = map(int, input().split())\n",
    "    graph[a][b] = c\n",
    "    \n",
    "# 점화식에 따라 플로이드 워셜 알고리즘 수행\n",
    "for k in range(1, n+1):\n",
    "    for a in range(1, n+1):\n",
    "        for b in range(1, n+1):\n",
    "            graph[a][b]= min(graph[a][b], graph[a][k]+graph[k][b])\n",
    "\n",
    "# 수행된 결과를 출력\n",
    "for a in range(1, n+1):\n",
    "    for b in range(1, n+1):\n",
    "        # 도달할 수 없는 경우, 무한(INFINITY)이라고 출력\n",
    "        if graph[a][b] == INF:\n",
    "            print('INFINITY', end=' ')\n",
    "        # 도달할 수 있는 경우 거리를 출력\n",
    "        else:\n",
    "            print(graph[a][b], end=' ')\n",
    "    print()"
   ]
  }
 ],
 "metadata": {
  "kernelspec": {
   "display_name": "Python 3 (ipykernel)",
   "language": "python",
   "name": "python3"
  },
  "language_info": {
   "codemirror_mode": {
    "name": "ipython",
    "version": 3
   },
   "file_extension": ".py",
   "mimetype": "text/x-python",
   "name": "python",
   "nbconvert_exporter": "python",
   "pygments_lexer": "ipython3",
   "version": "3.8.8"
  },
  "toc": {
   "base_numbering": 1,
   "nav_menu": {},
   "number_sections": true,
   "sideBar": true,
   "skip_h1_title": false,
   "title_cell": "Table of Contents",
   "title_sidebar": "Contents",
   "toc_cell": false,
   "toc_position": {},
   "toc_section_display": true,
   "toc_window_display": false
  }
 },
 "nbformat": 4,
 "nbformat_minor": 5
}
