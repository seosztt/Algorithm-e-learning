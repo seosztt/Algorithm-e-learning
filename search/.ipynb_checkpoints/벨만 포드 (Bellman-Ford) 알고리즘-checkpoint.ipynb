{
 "cells": [
  {
   "cell_type": "markdown",
   "id": "fa7388f1",
   "metadata": {},
   "source": [
    "# 벨만 포드 (Bellman-Ford) 알고리즘"
   ]
  },
  {
   "cell_type": "code",
   "execution_count": 1,
   "id": "94750659",
   "metadata": {},
   "outputs": [
    {
     "name": "stdout",
     "output_type": "stream",
     "text": [
      "3 4\n",
      "1 2 4\n",
      "1 3 3\n",
      "2 3 -4\n",
      "3 1 -2\n",
      "-1\n"
     ]
    }
   ],
   "source": [
    "import sys\n",
    "# input = sys.stdin.readline\n",
    "INF = int(1e9)\n",
    "\n",
    "def bf(start):\n",
    "    # 시작 노드에 대해서 초기화\n",
    "    dist[start] = 0\n",
    "    # 전체 n번의 라운드(round)를 반복\n",
    "    for i in range(n):\n",
    "        # 매 반복마다 '모든 간선'을 확인하며\n",
    "        for j in range(m):\n",
    "            cur = edges[j][0]\n",
    "            next_node = edges[j][1]\n",
    "            cost = edges[j][2]\n",
    "            # 현재 간선을 거쳐서 다른 노드로 이동하는 거리가 더 짧은 경우\n",
    "            if dist[cur] != INF and dist[next_node] > dist[cur] + cost:\n",
    "                dist[next_node] = dist[cur] + cost\n",
    "                # n번째 라운드에서도 값이 갱신된다면 음수 순환이 존재\n",
    "                if i == n-1:\n",
    "                    return True\n",
    "    return False\n",
    "\n",
    "# 노드의 개수, 간선의 개수를 입력받기\n",
    "n, m = map(int, input().split())\n",
    "# 모든 간선에 대한 정보를 담는 리스트 만들기\n",
    "edges = []\n",
    "# 최단 거리 테이블을 모두 무한으로 초기화\n",
    "dist = [INF] * (n+1)\n",
    "\n",
    "# 모든 간선 정보를 입력받기\n",
    "for _ in range(m):\n",
    "    a, b, c = map(int, input().split())\n",
    "    # a번 노드에서 b번 노드로 가는 비용이 c라는 의미\n",
    "    edges.append((a,b,c))\n",
    "    \n",
    "# 벨만 포드 알고리즘을 수행\n",
    "negative_cycle = bf(1) # 1번 노드가 시작 노드\n",
    "\n",
    "if negative_cycle:\n",
    "    print('-1')\n",
    "else:\n",
    "    # 1번 노드를 제외한 다른 모든 노드로 가기 위한 최단 거리 출력\n",
    "    for i in range(2, n+1):\n",
    "        # 도달할 수 없는 경우, -1을 출력\n",
    "        if dist[i] == INF:\n",
    "            print('-1')\n",
    "        # 도달할 수 있는 경우 거리를 출력\n",
    "        else:\n",
    "            print(dist[i])"
   ]
  }
 ],
 "metadata": {
  "kernelspec": {
   "display_name": "Python 3 (ipykernel)",
   "language": "python",
   "name": "python3"
  },
  "language_info": {
   "codemirror_mode": {
    "name": "ipython",
    "version": 3
   },
   "file_extension": ".py",
   "mimetype": "text/x-python",
   "name": "python",
   "nbconvert_exporter": "python",
   "pygments_lexer": "ipython3",
   "version": "3.8.8"
  },
  "toc": {
   "base_numbering": 1,
   "nav_menu": {},
   "number_sections": true,
   "sideBar": true,
   "skip_h1_title": false,
   "title_cell": "Table of Contents",
   "title_sidebar": "Contents",
   "toc_cell": false,
   "toc_position": {},
   "toc_section_display": true,
   "toc_window_display": false
  }
 },
 "nbformat": 4,
 "nbformat_minor": 5
}
