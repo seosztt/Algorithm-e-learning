{
 "cells": [
  {
   "cell_type": "markdown",
   "id": "dc617f7c",
   "metadata": {},
   "source": [
    "# DFS(Depth_First Search)"
   ]
  },
  {
   "cell_type": "code",
   "execution_count": 1,
   "id": "44892f37",
   "metadata": {},
   "outputs": [],
   "source": [
    "# DFS(깊이 우선 탐색) 메서드 정의\n",
    "def dfs(graph, v, visited):\n",
    "    # 현재 노드를 방문 처리\n",
    "    visited[v]=True\n",
    "    print(v, end=' ')\n",
    "    # 현재 노드와 연결된 다른 노드를 재귀적으로 방문\n",
    "    for i in graph[v]:\n",
    "        if not visited[i]:\n",
    "            dfs(graph, i, visited)"
   ]
  },
  {
   "cell_type": "code",
   "execution_count": 2,
   "id": "7589a6ae",
   "metadata": {},
   "outputs": [
    {
     "name": "stdout",
     "output_type": "stream",
     "text": [
      "1 2 7 6 8 3 4 5 "
     ]
    }
   ],
   "source": [
    "# 각 노드가 연결된 정보를 표현 (2차원 리스트)\n",
    "graph=[\n",
    "    [],\n",
    "    [2,3,8],\n",
    "    [1,7],\n",
    "    [1,4,5],\n",
    "    [3,5],\n",
    "    [3,4],\n",
    "    [7],\n",
    "    [2,6,8],\n",
    "    [1,7]\n",
    "]\n",
    "\n",
    "# 각 노드가 방문된 정보를 표현 (1차원 리스트)\n",
    "visited=[False]*9\n",
    "\n",
    "# 정의된 DFS 함수 호출\n",
    "dfs(graph,1,visited)"
   ]
  },
  {
   "cell_type": "markdown",
   "id": "edf44f80",
   "metadata": {},
   "source": [
    "# BFS(Breadth-First Search)"
   ]
  },
  {
   "cell_type": "code",
   "execution_count": 3,
   "id": "fcc321c3",
   "metadata": {},
   "outputs": [],
   "source": [
    "# BFS(너비 우선 탐색)\n",
    "from collections import deque\n",
    "\n",
    "# BFS 메서드 정의\n",
    "def bfs(graph, start, visited):\n",
    "    # 큐(Queue) 구현을 위해 deque 라이브러리 사용\n",
    "    queue=deque([start])\n",
    "    # 현재 노드를 방문 처리\n",
    "    visited[start]=True\n",
    "    # 큐가 빌 때까지 반복\n",
    "    while queue:\n",
    "        # 큐에서 하나의 원소를 뽑아 출력하기\n",
    "        v=queue.popleft()\n",
    "        print(v,end=' ')\n",
    "        # 아직 방문하지 않은 인접한 원소들을 큐에 삽입\n",
    "        for i in graph[v]:\n",
    "            if not visited[i]:\n",
    "                queue.append(i)\n",
    "                visited[i]=True"
   ]
  },
  {
   "cell_type": "code",
   "execution_count": 4,
   "id": "13de5004",
   "metadata": {},
   "outputs": [
    {
     "name": "stdout",
     "output_type": "stream",
     "text": [
      "1 2 3 8 7 4 5 6 "
     ]
    }
   ],
   "source": [
    "# 각 노드가 연결된 정보를 표현 (2차원 리스트)\n",
    "graph=[\n",
    "    [],\n",
    "    [2,3,8],\n",
    "    [1,7],\n",
    "    [1,4,5],\n",
    "    [3,5],\n",
    "    [3,4],\n",
    "    [7],\n",
    "    [2,6,8],\n",
    "    [1,7]\n",
    "]\n",
    "\n",
    "# 각 노드가 방문된 정보를 표현 (1차원 리스트)\n",
    "visited=[False]*9\n",
    "\n",
    "# 정의된 BFS 함수 호출\n",
    "bfs(graph,1,visited)"
   ]
  },
  {
   "cell_type": "markdown",
   "id": "febb1b77",
   "metadata": {},
   "source": [
    "# 문제 풀이"
   ]
  },
  {
   "cell_type": "markdown",
   "id": "67b11b67",
   "metadata": {},
   "source": [
    "## 음료수 얼려 먹기 (DFS)"
   ]
  },
  {
   "cell_type": "code",
   "execution_count": 5,
   "id": "fbfc5ee1",
   "metadata": {},
   "outputs": [],
   "source": [
    "import numpy as np\n",
    "A=np.arange(1,10).reshape(3,3)"
   ]
  },
  {
   "cell_type": "code",
   "execution_count": 6,
   "id": "3034ec7e",
   "metadata": {},
   "outputs": [
    {
     "data": {
      "text/plain": [
       "array([[1, 2, 3],\n",
       "       [4, 5, 6],\n",
       "       [7, 8, 9]])"
      ]
     },
     "execution_count": 6,
     "metadata": {},
     "output_type": "execute_result"
    }
   ],
   "source": [
    "A"
   ]
  },
  {
   "cell_type": "code",
   "execution_count": 7,
   "id": "d0795814",
   "metadata": {},
   "outputs": [],
   "source": [
    "graph=np.random.randint(2, size=(5,5))"
   ]
  },
  {
   "cell_type": "code",
   "execution_count": 8,
   "id": "f8cde895",
   "metadata": {},
   "outputs": [
    {
     "data": {
      "text/plain": [
       "array([[1, 1, 1, 1, 1],\n",
       "       [1, 1, 1, 0, 0],\n",
       "       [0, 1, 0, 1, 1],\n",
       "       [1, 0, 0, 0, 0],\n",
       "       [1, 0, 1, 1, 0]])"
      ]
     },
     "execution_count": 8,
     "metadata": {},
     "output_type": "execute_result"
    }
   ],
   "source": [
    "graph"
   ]
  },
  {
   "cell_type": "code",
   "execution_count": 13,
   "id": "b1d23897",
   "metadata": {
    "scrolled": true
   },
   "outputs": [
    {
     "name": "stdout",
     "output_type": "stream",
     "text": [
      "20 20\n",
      "[[1 0 1 1 1 0 1 1 0 0 0 0 1 0 0 0 1 0 0 0]\n",
      " [1 1 0 1 1 1 1 1 1 1 1 0 0 0 1 0 0 1 1 1]\n",
      " [1 0 1 1 1 1 1 0 1 1 1 1 0 1 0 0 0 0 1 1]\n",
      " [0 1 0 1 0 0 1 1 0 1 1 0 0 1 1 0 0 1 1 1]\n",
      " [1 0 0 0 0 1 1 0 0 0 0 1 0 1 1 0 0 1 0 1]\n",
      " [1 1 0 1 0 0 0 0 1 1 0 1 0 1 0 0 0 0 1 1]\n",
      " [0 1 0 0 0 0 0 0 0 1 1 0 1 0 1 0 0 1 0 0]\n",
      " [0 1 0 1 0 0 1 0 0 1 1 1 1 0 1 1 0 0 0 0]\n",
      " [0 0 1 0 0 0 0 1 0 0 1 1 1 0 0 0 1 1 0 0]\n",
      " [1 0 1 1 1 1 0 0 1 0 1 0 1 1 0 0 0 1 0 0]\n",
      " [0 1 0 1 0 1 1 1 0 1 0 0 0 0 1 1 0 0 0 1]\n",
      " [1 1 1 1 1 0 0 0 1 0 1 0 0 1 1 1 0 1 1 1]\n",
      " [1 0 1 0 0 0 1 0 1 0 0 1 0 0 0 0 1 0 1 0]\n",
      " [0 0 0 1 1 0 0 1 1 0 1 1 0 1 1 1 1 0 1 0]\n",
      " [1 0 0 0 1 0 0 0 0 1 1 0 1 0 0 0 0 0 1 0]\n",
      " [0 0 0 0 0 0 1 1 1 0 1 0 0 1 0 0 1 0 0 0]\n",
      " [1 1 1 0 1 0 0 0 0 1 0 1 1 0 1 0 0 0 1 1]\n",
      " [0 1 0 0 1 0 1 1 0 0 0 0 1 0 0 0 1 0 1 1]\n",
      " [0 1 1 1 1 1 1 0 0 0 0 0 1 1 0 1 1 0 1 1]\n",
      " [0 1 0 1 1 1 0 0 0 0 0 1 0 0 0 0 0 0 0 0]]\n",
      "24\n"
     ]
    }
   ],
   "source": [
    "# 문제 풀이\n",
    "# DFS로 특정 노드를 방문하고 연결된 모든 노드들도 방문\n",
    "def dfs(x,y):\n",
    "    # 주어진 범위를 벗어나는 경우에는 즉시 종료\n",
    "    if x<=-1 or x>=n or y<-1 or y>=m:\n",
    "        return False\n",
    "    # 현재 노드를 아직 방문하지 않았다면\n",
    "    if graph[x][y]==0:\n",
    "        # 해당 노드를 방문 처리\n",
    "        graph[x][y]=1\n",
    "        # 상, 하, 좌, 우의 위치들도 모두 재귀적으로 호출\n",
    "        dfs(x-1,y)\n",
    "        dfs(x,y-1)\n",
    "        dfs(x+1,y)\n",
    "        dfs(x,y+1)\n",
    "        return True\n",
    "    return False\n",
    "\n",
    "# N, M을 공백을 기준으로 구분하여 입력 받기\n",
    "n,m=map(int, input().split())\n",
    "\n",
    "# 2차원 리스트의 맵 정보 입력 받기\n",
    "# graph=[]\n",
    "# for i in range(n):\n",
    "#    graph.append(list(map(int, input())))\n",
    "\n",
    "# 2차원 리스트 랜덤 생성\n",
    "graph=np.random.randint(2, size=(n,m))\n",
    "print(graph)\n",
    "\n",
    "# 모든 노드(위치)에 대하여 음료수 채우기\n",
    "result=0\n",
    "for i in range(n):\n",
    "    for j in range(m):\n",
    "        # 현재 위치에서 DFS 수행\n",
    "        if dfs(i,j)==True:\n",
    "            result+=1\n",
    "            \n",
    "print(result) # 정답 출력"
   ]
  },
  {
   "cell_type": "markdown",
   "id": "5b9986c1",
   "metadata": {},
   "source": [
    "## 미로 탈출 (BFS)"
   ]
  },
  {
   "cell_type": "code",
   "execution_count": 15,
   "id": "c107e3d2",
   "metadata": {},
   "outputs": [],
   "source": [
    "# BFS 소스코드 구현\n",
    "def bfs(x, y):\n",
    "    # 큐(Queue) 구현을 위해 deque 라이브러리 사용\n",
    "    queue = deque()\n",
    "    queue.append((x,y))\n",
    "    # 큐가 빌 때까지 반복하기\n",
    "    while queue:\n",
    "        x, y = queue.popleft()\n",
    "        # 현재 위치에서 4가지 방향으로 위치 확인\n",
    "        for i in range(4):\n",
    "            nx = x + dx[i]\n",
    "            ny = y + dy[i]\n",
    "            # 미로 찾기 공간을 벗어난 경우 무시\n",
    "            if nx < 0 or nx >= n or ny < 0 or ny >= m:\n",
    "                continue\n",
    "            # 벽인 경우 무시\n",
    "            if graph[nx][ny] == 0:\n",
    "                continue\n",
    "            # 해당 노드를 처음 방문하는 경우에만 최단 거리 기록\n",
    "            if graph[nx][ny] == 1:\n",
    "                graph[nx][ny] = graph[x][y] + 1\n",
    "                queue.append((nx, ny))\n",
    "    # 가장 오른쪽 아래까지의 최단 거리 반환\n",
    "    return graph[n-1][m-1]"
   ]
  },
  {
   "cell_type": "code",
   "execution_count": 44,
   "id": "898cecaa",
   "metadata": {
    "scrolled": false
   },
   "outputs": [
    {
     "name": "stdout",
     "output_type": "stream",
     "text": [
      "20 20\n",
      "[[1 1 0 0 0 1 0 1 1 0 0 0 0 1 0 0 1 1 0 0]\n",
      " [1 0 0 0 1 1 0 0 0 1 0 0 0 1 1 0 0 0 1 1]\n",
      " [1 0 1 1 1 1 0 1 1 1 0 0 0 1 0 0 0 0 0 0]\n",
      " [1 1 1 0 0 0 1 0 1 0 1 1 0 1 1 1 1 0 1 1]\n",
      " [1 1 0 1 0 1 0 0 0 0 1 0 1 0 0 1 1 1 1 1]\n",
      " [1 1 0 1 0 1 1 1 0 1 1 1 1 0 0 1 1 1 0 1]\n",
      " [1 1 1 0 0 1 1 0 1 1 1 1 0 1 1 1 1 0 0 1]\n",
      " [0 1 0 1 0 1 0 1 0 1 0 1 1 1 0 0 1 1 0 1]\n",
      " [0 1 1 0 0 1 0 1 0 0 0 0 0 0 1 1 0 1 0 1]\n",
      " [0 0 1 1 0 1 0 1 1 0 0 0 1 1 0 1 1 1 0 0]\n",
      " [1 0 1 1 0 0 0 0 0 1 1 0 0 1 0 1 0 0 1 0]\n",
      " [0 0 0 1 0 0 0 0 0 0 1 0 0 1 0 1 0 0 1 0]\n",
      " [0 0 1 1 1 1 1 1 0 0 1 0 0 1 0 1 0 1 0 1]\n",
      " [0 0 0 0 0 1 0 1 0 1 1 0 0 1 0 0 0 0 0 0]\n",
      " [0 0 0 0 1 1 0 0 0 0 0 1 1 0 1 1 1 0 0 0]\n",
      " [0 0 0 1 1 1 1 1 1 0 0 0 1 1 0 0 0 1 0 0]\n",
      " [0 1 0 1 0 0 1 1 1 1 1 1 1 1 0 1 0 1 0 1]\n",
      " [1 0 0 0 1 1 1 1 0 0 0 0 0 0 1 0 0 0 0 1]\n",
      " [1 1 0 0 0 1 0 1 1 1 1 0 1 0 1 0 1 0 0 1]\n",
      " [1 0 1 1 1 0 1 1 1 1 1 1 1 1 1 1 1 1 1 1]]\n",
      "39\n"
     ]
    }
   ],
   "source": [
    "from collections import deque\n",
    "\n",
    "# N, M을 공백을 기준으로 구분하여 입력 받기\n",
    "n, m = map(int, input().split())\n",
    "\n",
    "# 2차원 리스트의 맵 정보 입력 받기\n",
    "# graph = []\n",
    "# for i in range(n):\n",
    "#     graph.append(list(map(int, input())))\n",
    "    \n",
    "# 2차원 미로 랜덤 생성\n",
    "graph=np.random.randint(2, size=(n,m))\n",
    "mk_path(0, 0)\n",
    "print(graph)\n",
    "\n",
    "# 이동할 네 가지 방향 정의 (상, 하, 좌, 우)\n",
    "dx = [-1, 1, 0, 0]\n",
    "dy = [0, 0, -1, 1]\n",
    "\n",
    "# BFS를 수행한 결과 출력\n",
    "print(bfs(0,0))"
   ]
  },
  {
   "cell_type": "code",
   "execution_count": 35,
   "id": "515d4d56",
   "metadata": {},
   "outputs": [],
   "source": [
    "def mk_path(x, y):\n",
    "    graph[x][y]=1\n",
    "    if x==n-1 and y==m-1:\n",
    "        return graph\n",
    "    elif x < n-1 and graph[x+1][y] == 1:\n",
    "        mk_path(x+1, y)\n",
    "    elif y < m-1 and graph[x][y+1] == 1:\n",
    "        mk_path(x, y+1)\n",
    "    elif x== n-1:\n",
    "        mk_path(x, y+1)\n",
    "    elif y==m-1:\n",
    "        mk_path(x+1, y)\n",
    "    else:\n",
    "        mk_path(x+1, y)"
   ]
  }
 ],
 "metadata": {
  "kernelspec": {
   "display_name": "Python 3 (ipykernel)",
   "language": "python",
   "name": "python3"
  },
  "language_info": {
   "codemirror_mode": {
    "name": "ipython",
    "version": 3
   },
   "file_extension": ".py",
   "mimetype": "text/x-python",
   "name": "python",
   "nbconvert_exporter": "python",
   "pygments_lexer": "ipython3",
   "version": "3.8.8"
  },
  "toc": {
   "base_numbering": 1,
   "nav_menu": {},
   "number_sections": true,
   "sideBar": true,
   "skip_h1_title": false,
   "title_cell": "Table of Contents",
   "title_sidebar": "Contents",
   "toc_cell": false,
   "toc_position": {},
   "toc_section_display": true,
   "toc_window_display": false
  }
 },
 "nbformat": 4,
 "nbformat_minor": 5
}
