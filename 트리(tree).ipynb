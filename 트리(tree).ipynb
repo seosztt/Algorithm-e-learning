{
 "cells": [
  {
   "cell_type": "markdown",
   "id": "82759d71",
   "metadata": {},
   "source": [
    "# 트리의 순회 (Tree Traversal) 구현 예제"
   ]
  },
  {
   "cell_type": "code",
   "execution_count": 1,
   "id": "fd614b4c",
   "metadata": {},
   "outputs": [],
   "source": [
    "class Node:\n",
    "    def __init__(self, data, left_node, right_node):\n",
    "        self.data = data\n",
    "        self.left_node = left_node\n",
    "        self.right_node = right_node\n",
    "        \n",
    "# 전위 순회(Preorder Traversal)\n",
    "def pre_order(node):\n",
    "    print(node.data, end=' ')\n",
    "    if node.left_node != None:\n",
    "        pre_order(tree[node.left_node])\n",
    "    if node.right_node != None:\n",
    "        pre_order(tree[node.right_node])\n",
    "        \n",
    "# 중위 순회(Inorder Traversal)\n",
    "def in_order(node):\n",
    "    if node.left_node != None:\n",
    "        in_order(tree[node.left_node])\n",
    "    print(node.data, end=' ')\n",
    "    if node.right_node != None:\n",
    "        in_order(tree[node.right_node])\n",
    "        \n",
    "# 후위 순회(Postorder Traversal)\n",
    "def post_order(node):\n",
    "    if node.left_node != None:\n",
    "        post_order(tree[node.left_node])\n",
    "    if node.right_node != None:\n",
    "        post_order(tree[node.right_node])\n",
    "    print(node.data, end=' ')"
   ]
  },
  {
   "cell_type": "code",
   "execution_count": 2,
   "id": "bacdb094",
   "metadata": {},
   "outputs": [
    {
     "name": "stdout",
     "output_type": "stream",
     "text": [
      "7\n",
      "A B C\n",
      "B D E\n",
      "C F G\n",
      "D None None\n",
      "E None None\n",
      "F None None\n",
      "G None None\n"
     ]
    }
   ],
   "source": [
    "n = int(input())\n",
    "tree = {}\n",
    "\n",
    "for i in range(n):\n",
    "    data, left_node, right_node = input().split()\n",
    "    if left_node == 'None':\n",
    "        left_node = None\n",
    "    if right_node == 'None':\n",
    "        right_node = None\n",
    "    tree[data] = Node(data, left_node, right_node)"
   ]
  },
  {
   "cell_type": "code",
   "execution_count": 3,
   "id": "db706a76",
   "metadata": {},
   "outputs": [
    {
     "data": {
      "text/plain": [
       "{'A': <__main__.Node at 0x15678627e80>,\n",
       " 'B': <__main__.Node at 0x156786605e0>,\n",
       " 'C': <__main__.Node at 0x156786271c0>,\n",
       " 'D': <__main__.Node at 0x156785f5f40>,\n",
       " 'E': <__main__.Node at 0x15678693e80>,\n",
       " 'F': <__main__.Node at 0x15678693f10>,\n",
       " 'G': <__main__.Node at 0x156786938e0>}"
      ]
     },
     "execution_count": 3,
     "metadata": {},
     "output_type": "execute_result"
    }
   ],
   "source": [
    "tree"
   ]
  },
  {
   "cell_type": "code",
   "execution_count": 4,
   "id": "f17560fb",
   "metadata": {},
   "outputs": [
    {
     "name": "stdout",
     "output_type": "stream",
     "text": [
      "A B D E C F G "
     ]
    }
   ],
   "source": [
    "pre_order(tree['A'])"
   ]
  },
  {
   "cell_type": "code",
   "execution_count": 5,
   "id": "943bccc5",
   "metadata": {},
   "outputs": [
    {
     "name": "stdout",
     "output_type": "stream",
     "text": [
      "D B E A F C G "
     ]
    }
   ],
   "source": [
    "in_order(tree['A'])"
   ]
  },
  {
   "cell_type": "code",
   "execution_count": 6,
   "id": "b8317954",
   "metadata": {},
   "outputs": [
    {
     "name": "stdout",
     "output_type": "stream",
     "text": [
      "D E B F G C A "
     ]
    }
   ],
   "source": [
    "post_order(tree['A'])"
   ]
  }
 ],
 "metadata": {
  "kernelspec": {
   "display_name": "Python 3 (ipykernel)",
   "language": "python",
   "name": "python3"
  },
  "language_info": {
   "codemirror_mode": {
    "name": "ipython",
    "version": 3
   },
   "file_extension": ".py",
   "mimetype": "text/x-python",
   "name": "python",
   "nbconvert_exporter": "python",
   "pygments_lexer": "ipython3",
   "version": "3.8.8"
  },
  "toc": {
   "base_numbering": 1,
   "nav_menu": {},
   "number_sections": true,
   "sideBar": true,
   "skip_h1_title": false,
   "title_cell": "Table of Contents",
   "title_sidebar": "Contents",
   "toc_cell": false,
   "toc_position": {},
   "toc_section_display": true,
   "toc_window_display": false
  }
 },
 "nbformat": 4,
 "nbformat_minor": 5
}
