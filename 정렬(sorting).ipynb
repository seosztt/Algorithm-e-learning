{
 "cells": [
  {
   "cell_type": "markdown",
   "id": "d5b44184",
   "metadata": {},
   "source": [
    "# 선택 정렬"
   ]
  },
  {
   "cell_type": "code",
   "execution_count": 1,
   "id": "e47873b8",
   "metadata": {},
   "outputs": [],
   "source": [
    "# 선택정렬\n",
    "array=[7,5,9,0,3,1,6,2,4,8]\n",
    "\n",
    "for i in range(len(array)):\n",
    "    min_index=i # 가장 작은 원소의 인덱스\n",
    "    for j in range(i+1, len(array)):\n",
    "        if array[min_index]>array[j]:\n",
    "            min_index=j\n",
    "    array[i], array[min_index]=array[min_index], array[i] # 스와프"
   ]
  },
  {
   "cell_type": "code",
   "execution_count": 2,
   "id": "d81c4868",
   "metadata": {},
   "outputs": [
    {
     "data": {
      "text/plain": [
       "[0, 1, 2, 3, 4, 5, 6, 7, 8, 9]"
      ]
     },
     "execution_count": 2,
     "metadata": {},
     "output_type": "execute_result"
    }
   ],
   "source": [
    "array"
   ]
  },
  {
   "cell_type": "markdown",
   "id": "e11af13a",
   "metadata": {},
   "source": [
    "# 삽입 정렬"
   ]
  },
  {
   "cell_type": "code",
   "execution_count": 3,
   "id": "99d3f1d5",
   "metadata": {},
   "outputs": [
    {
     "name": "stdout",
     "output_type": "stream",
     "text": [
      "[0, 1, 2, 3, 4, 5, 6, 7, 8, 9]\n"
     ]
    }
   ],
   "source": [
    "# 삽입정렬\n",
    "array=[7,5,9,0,3,1,6,2,4,8]\n",
    "\n",
    "for i in range(1, len(array)):\n",
    "    for j in range(i,0,-1):\n",
    "        if array[j]<array[j-1]:\n",
    "            array[j], array[j-1]=array[j-1], array[j]\n",
    "        else:\n",
    "            break\n",
    "print(array)"
   ]
  },
  {
   "cell_type": "markdown",
   "id": "ba83dffd",
   "metadata": {},
   "source": [
    "# 퀵 정렬"
   ]
  },
  {
   "cell_type": "code",
   "execution_count": 4,
   "id": "22ddc44a",
   "metadata": {},
   "outputs": [
    {
     "name": "stdout",
     "output_type": "stream",
     "text": [
      "[0, 1, 2, 3, 4, 5, 6, 7, 8, 9]\n"
     ]
    }
   ],
   "source": [
    "# 퀵 정렬\n",
    "array=[5,7,9,0,3,1,6,2,4,8]\n",
    "\n",
    "def quick_sort(array, start, end):\n",
    "    if start>=end: # 원소가 1개인 경우 종료\n",
    "        return\n",
    "    pivot=start # 피벗은 첫 번째 원소\n",
    "    left=start+1\n",
    "    right=end\n",
    "    while(left<=right):\n",
    "        # 피벗보다 큰 데이터를 찾을 때까지 반복\n",
    "        while(left<=end and array[left]<=array[pivot]):\n",
    "            left+=1\n",
    "        # 피벗보다 작은 데이터르 찾을 때까지 반복\n",
    "        while(right>start and array[right]>=array[pivot]):\n",
    "            right-=1\n",
    "        if(left>right): # 엇갈렸다면 작은 데이터와 피벗을 교체\n",
    "            array[right], array[pivot]=array[pivot], array[right]\n",
    "        else: # 엇갈리지 않았다면 작은 데이터와 큰 데이터를 교체\n",
    "            array[left], array[right]=array[right], array[left]\n",
    "    # 분할 이후 왼쪽 부분과 오른쪽 부분에서 각각 정령 수행\n",
    "    quick_sort(array, start, right -1)\n",
    "    quick_sort(array, right+1, end)\n",
    "    \n",
    "quick_sort(array,0,len(array)-1)\n",
    "print(array)"
   ]
  },
  {
   "cell_type": "code",
   "execution_count": 5,
   "id": "9a571266",
   "metadata": {},
   "outputs": [
    {
     "name": "stdout",
     "output_type": "stream",
     "text": [
      "[0, 1, 2, 3, 4, 5, 6, 7, 8, 9]\n"
     ]
    }
   ],
   "source": [
    "# 퀵 정렬:파이썬의 장점을 살린 방식\n",
    "array=[5,7,9,0,3,1,6,2,4,8]\n",
    "\n",
    "def quick_sort(array):\n",
    "    # 리스트가 하나 이하의 원소만 담고 있다면 종료\n",
    "    if len(array)<=1:\n",
    "        return array\n",
    "    pivot=array[0] # 피벗은 첫 번재 원소\n",
    "    tail=array[1:] # 피벗을 제외한 리스트\n",
    "    \n",
    "    left_side=[x for x in tail if x <=pivot] # 분할된 왼쪽 부분\n",
    "    right_side=[x for x in tail if x > pivot] # 분할된 오른쪽 부분\n",
    "    \n",
    "    # 분할 이후 왼쪽 부분과 오른쪽 부분에서 각각 정령 수행하고, 전체 리스트 반환\n",
    "    return quick_sort(left_side)+[pivot]+quick_sort(right_side)\n",
    "\n",
    "print(quick_sort(array))"
   ]
  },
  {
   "cell_type": "markdown",
   "id": "692819ae",
   "metadata": {},
   "source": [
    "# 계수 정렬"
   ]
  },
  {
   "cell_type": "code",
   "execution_count": 6,
   "id": "044e34d6",
   "metadata": {},
   "outputs": [
    {
     "name": "stdout",
     "output_type": "stream",
     "text": [
      "0 0 1 1 2 2 3 4 5 5 6 7 8 9 9 "
     ]
    }
   ],
   "source": [
    "# 계수 정렬\n",
    "# 모든 원소의 값이 0보다 크거나 같다고 가정\n",
    "array=[7,5,9,0,3,1,6,2,9,1,4,8,0,5,2]\n",
    "# 모든 범위를 포함하는 리스트 선언(모든 값은 0으로 초기화)\n",
    "count=[0]*(max(array)+1)\n",
    "\n",
    "for i in range(len(array)):\n",
    "    count[array[i]] +=1 # 각 데이터에 해당하는 인덱스의 값 증가\n",
    "\n",
    "for i in range(len(count)): # 리스트에 기록된 정렬 정보 확인\n",
    "    for j in range(count[i]):\n",
    "        print(i, end=' ') # 띄어쓰기를 구분으로 등장한 횟수만큼 인덱스 출력"
   ]
  },
  {
   "cell_type": "markdown",
   "id": "f4efa91c",
   "metadata": {},
   "source": [
    "# 문제 풀이"
   ]
  },
  {
   "cell_type": "code",
   "execution_count": 50,
   "id": "1bf82404",
   "metadata": {},
   "outputs": [],
   "source": [
    "# 문제풀이 My solution\n",
    "A=[1,2,5,4,3]\n",
    "B=[5,5,6,6,5]\n",
    "k=3\n",
    "def maxsum(A,B,k):\n",
    "    n=len(A)\n",
    "    A=sorted(A)\n",
    "    B=sorted(B)\n",
    "    for i in range(k):\n",
    "        if A[i]<B[-1-i]:\n",
    "            A[i]=B[-1-i]\n",
    "        else:\n",
    "            break\n",
    "    return sum(A)"
   ]
  },
  {
   "cell_type": "code",
   "execution_count": 51,
   "id": "31a6b4a2",
   "metadata": {},
   "outputs": [
    {
     "data": {
      "text/plain": [
       "26"
      ]
     },
     "execution_count": 51,
     "metadata": {},
     "output_type": "execute_result"
    }
   ],
   "source": [
    "maxsum(A,B,k)"
   ]
  },
  {
   "cell_type": "code",
   "execution_count": 9,
   "id": "d54d88f5",
   "metadata": {},
   "outputs": [
    {
     "name": "stdout",
     "output_type": "stream",
     "text": [
      "5 3\n",
      "1 2 5 4 3\n",
      "5 5 6 6 5\n",
      "26\n"
     ]
    }
   ],
   "source": [
    "# 강의의 답안 예시\n",
    "n, k = map(int, input().split()) # N과 K를 입력 받기\n",
    "a = list(map(int, input().split())) # 배열 A의 모든 원소를 입력 받기\n",
    "b = list(map(int, input().split())) # 배열 B의 모든 원소를 입력 받기\n",
    "\n",
    "a.sort() # 배열 A는 오름차순 정렬 수행\n",
    "b.sort(reverse=True) # 배열 B는 내림차순 정렬 수행\n",
    "# 첫 번째 인덱스부터 확인하며, 두 배열의 원소를 최대 K번 비교\n",
    "for i in range(k):\n",
    "    # A의 원소가 B의 원소보다 작은 경우\n",
    "    if a[i] < b[i]:\n",
    "        # 두 원소를 교체\n",
    "        a[i], b[i] = b[i], a[i]\n",
    "    else: # A의 원소가 B의 원소보다 크거나 같을 때, 반복문을 탈출\n",
    "        break\n",
    "        \n",
    "print(sum(a)) # 배열 A의 모든 원소의 합을 출력"
   ]
  }
 ],
 "metadata": {
  "kernelspec": {
   "display_name": "Python 3 (ipykernel)",
   "language": "python",
   "name": "python3"
  },
  "language_info": {
   "codemirror_mode": {
    "name": "ipython",
    "version": 3
   },
   "file_extension": ".py",
   "mimetype": "text/x-python",
   "name": "python",
   "nbconvert_exporter": "python",
   "pygments_lexer": "ipython3",
   "version": "3.8.8"
  },
  "toc": {
   "base_numbering": 1,
   "nav_menu": {},
   "number_sections": true,
   "sideBar": true,
   "skip_h1_title": false,
   "title_cell": "Table of Contents",
   "title_sidebar": "Contents",
   "toc_cell": false,
   "toc_position": {},
   "toc_section_display": true,
   "toc_window_display": false
  }
 },
 "nbformat": 4,
 "nbformat_minor": 5
}
