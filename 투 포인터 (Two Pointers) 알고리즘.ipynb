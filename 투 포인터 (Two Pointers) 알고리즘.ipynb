{
 "cells": [
  {
   "cell_type": "markdown",
   "id": "3b03a18e",
   "metadata": {},
   "source": [
    "# 특정한 합을 가지는 부분 연속 수열 찾기"
   ]
  },
  {
   "cell_type": "code",
   "execution_count": 1,
   "id": "4d0de5f5",
   "metadata": {},
   "outputs": [
    {
     "name": "stdout",
     "output_type": "stream",
     "text": [
      "3\n"
     ]
    }
   ],
   "source": [
    "n = 5 # 데이터의 개수 n\n",
    "m = 5 # 찾고자 하는 부분합 m\n",
    "data = [1, 2, 3, 2 ,5] # 전체 수열\n",
    "\n",
    "count = 0\n",
    "interval_sum = 0\n",
    "end = 0\n",
    "\n",
    "# start를 차례대로 증가시키며 반복\n",
    "for start in range(n):\n",
    "    # end를 가능한 만큼 이동시키기\n",
    "    while interval_sum < m and end < n:\n",
    "        interval_sum += data[end]\n",
    "        end += 1\n",
    "    # 부분합이 m일 때 카운트 증가\n",
    "    if interval_sum == m:\n",
    "        count += 1\n",
    "    interval_sum -= data[start]\n",
    "    \n",
    "print(count)"
   ]
  },
  {
   "cell_type": "markdown",
   "id": "3ab6625e",
   "metadata": {},
   "source": [
    "# 구간 합 (Interval Sum)"
   ]
  },
  {
   "cell_type": "markdown",
   "id": "c4007b11",
   "metadata": {},
   "source": [
    "- 접두사 합(Prefix Sum): 배열의 맨 앞부터 특정 위치까지의 합을 미리 구해놓은 것"
   ]
  },
  {
   "cell_type": "code",
   "execution_count": 2,
   "id": "799175a6",
   "metadata": {},
   "outputs": [
    {
     "name": "stdout",
     "output_type": "stream",
     "text": [
      "70\n"
     ]
    }
   ],
   "source": [
    "# 데이터의 개수 N과 데이터 입력받기\n",
    "n = 5\n",
    "data = [10, 20, 30, 40, 50]\n",
    "\n",
    "# 접두사 합(Prefix Sum) 배열 계산\n",
    "sum_value = 0\n",
    "prefix_sum = [0]\n",
    "for i in data:\n",
    "    sum_value += i\n",
    "    prefix_sum.append(sum_value)\n",
    "    \n",
    "# 구간 합 계산(세 번째 수부터 네 번째 수까지)\n",
    "left = 3\n",
    "right = 4\n",
    "print(prefix_sum[right] - prefix_sum[left - 1])"
   ]
  }
 ],
 "metadata": {
  "kernelspec": {
   "display_name": "Python 3 (ipykernel)",
   "language": "python",
   "name": "python3"
  },
  "language_info": {
   "codemirror_mode": {
    "name": "ipython",
    "version": 3
   },
   "file_extension": ".py",
   "mimetype": "text/x-python",
   "name": "python",
   "nbconvert_exporter": "python",
   "pygments_lexer": "ipython3",
   "version": "3.8.8"
  },
  "toc": {
   "base_numbering": 1,
   "nav_menu": {},
   "number_sections": true,
   "sideBar": true,
   "skip_h1_title": false,
   "title_cell": "Table of Contents",
   "title_sidebar": "Contents",
   "toc_cell": false,
   "toc_position": {},
   "toc_section_display": true,
   "toc_window_display": false
  }
 },
 "nbformat": 4,
 "nbformat_minor": 5
}
