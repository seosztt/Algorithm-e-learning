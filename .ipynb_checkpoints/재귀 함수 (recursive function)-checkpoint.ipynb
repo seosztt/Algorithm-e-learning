{
 "cells": [
  {
   "cell_type": "markdown",
   "id": "931374a7",
   "metadata": {},
   "source": [
    "# 재귀 함수의 종료 조건"
   ]
  },
  {
   "cell_type": "code",
   "execution_count": 1,
   "id": "0e24d3ca",
   "metadata": {},
   "outputs": [],
   "source": [
    "def recursive_function(i):\n",
    "    # 10번째 호출을 했을 때 종료되도록 종료 조건 명시\n",
    "    if i == 10:\n",
    "        return\n",
    "    print(i, '번째 재귀함수에서', i + 1, '번째 재귀함수를 호출합니다.')\n",
    "    recursive_function(i+1)\n",
    "    print(i, '번째 재귀함수를 종료합니다.')"
   ]
  },
  {
   "cell_type": "code",
   "execution_count": 2,
   "id": "f639d035",
   "metadata": {},
   "outputs": [
    {
     "name": "stdout",
     "output_type": "stream",
     "text": [
      "1 번째 재귀함수에서 2 번째 재귀함수를 호출합니다.\n",
      "2 번째 재귀함수에서 3 번째 재귀함수를 호출합니다.\n",
      "3 번째 재귀함수에서 4 번째 재귀함수를 호출합니다.\n",
      "4 번째 재귀함수에서 5 번째 재귀함수를 호출합니다.\n",
      "5 번째 재귀함수에서 6 번째 재귀함수를 호출합니다.\n",
      "6 번째 재귀함수에서 7 번째 재귀함수를 호출합니다.\n",
      "7 번째 재귀함수에서 8 번째 재귀함수를 호출합니다.\n",
      "8 번째 재귀함수에서 9 번째 재귀함수를 호출합니다.\n",
      "9 번째 재귀함수에서 10 번째 재귀함수를 호출합니다.\n",
      "9 번째 재귀함수를 종료합니다.\n",
      "8 번째 재귀함수를 종료합니다.\n",
      "7 번째 재귀함수를 종료합니다.\n",
      "6 번째 재귀함수를 종료합니다.\n",
      "5 번째 재귀함수를 종료합니다.\n",
      "4 번째 재귀함수를 종료합니다.\n",
      "3 번째 재귀함수를 종료합니다.\n",
      "2 번째 재귀함수를 종료합니다.\n",
      "1 번째 재귀함수를 종료합니다.\n"
     ]
    }
   ],
   "source": [
    "recursive_function(1)"
   ]
  },
  {
   "cell_type": "markdown",
   "id": "194411e3",
   "metadata": {},
   "source": [
    "# 팩토리얼 구현 예제"
   ]
  },
  {
   "cell_type": "code",
   "execution_count": 3,
   "id": "5fc1659a",
   "metadata": {},
   "outputs": [
    {
     "name": "stdout",
     "output_type": "stream",
     "text": [
      "반복적으로 구현: 1307674368000\n",
      "재귀적으로 구현: 1307674368000\n"
     ]
    }
   ],
   "source": [
    "# 반복적으로 구현한 n!\n",
    "def factorial_iterative(n):\n",
    "    result=1\n",
    "    # 1부터 n까지의 수를 차례대로 곱하기\n",
    "    for i in range(1, n+1):\n",
    "        result *= i\n",
    "    return result\n",
    "\n",
    "# 재귀적으로 구현한 n!\n",
    "def factorial_recursive(n):\n",
    "    if n <= 1: # n이 1이하인 경우 1을 반환\n",
    "        return 1\n",
    "    # n! = n*(n-1)!를 그대로 코드로 작성하기\n",
    "    return n*factorial_recursive(n-1)\n",
    "\n",
    "# 각각의 방식으로 구현한 n! 출력(n=15)\n",
    "print('반복적으로 구현:', factorial_iterative(15))\n",
    "print('재귀적으로 구현:', factorial_recursive(15))"
   ]
  },
  {
   "cell_type": "markdown",
   "id": "da0309a1",
   "metadata": {},
   "source": [
    "# 최대공약수 계산 (유클리드 호제법) 예제"
   ]
  },
  {
   "cell_type": "markdown",
   "id": "223c5c36",
   "metadata": {},
   "source": [
    "- 유클리드 호제법\n",
    "    - 두 자연수 a, b에 대하여 (a>b) a를 b로 나눈 나머지를 r이라고 합시다.\n",
    "    - 이때 a와 b의 최대공약수는 b와 r의 최대공약수와 같습니다."
   ]
  },
  {
   "cell_type": "code",
   "execution_count": 13,
   "id": "dc7be9dc",
   "metadata": {},
   "outputs": [],
   "source": [
    "def GCD(a, b):\n",
    "    if a%b == 0:\n",
    "        return b \n",
    "    return GCD(b,a%b)"
   ]
  },
  {
   "cell_type": "code",
   "execution_count": 14,
   "id": "34ff0c4f",
   "metadata": {
    "scrolled": true
   },
   "outputs": [
    {
     "data": {
      "text/plain": [
       "6"
      ]
     },
     "execution_count": 14,
     "metadata": {},
     "output_type": "execute_result"
    }
   ],
   "source": [
    "GCD(192, 162)"
   ]
  },
  {
   "cell_type": "code",
   "execution_count": 16,
   "id": "a2580196",
   "metadata": {},
   "outputs": [
    {
     "data": {
      "text/plain": [
       "6"
      ]
     },
     "execution_count": 16,
     "metadata": {},
     "output_type": "execute_result"
    }
   ],
   "source": [
    "GCD(162, 192)"
   ]
  }
 ],
 "metadata": {
  "kernelspec": {
   "display_name": "Python 3 (ipykernel)",
   "language": "python",
   "name": "python3"
  },
  "language_info": {
   "codemirror_mode": {
    "name": "ipython",
    "version": 3
   },
   "file_extension": ".py",
   "mimetype": "text/x-python",
   "name": "python",
   "nbconvert_exporter": "python",
   "pygments_lexer": "ipython3",
   "version": "3.8.8"
  },
  "toc": {
   "base_numbering": 1,
   "nav_menu": {},
   "number_sections": true,
   "sideBar": true,
   "skip_h1_title": false,
   "title_cell": "Table of Contents",
   "title_sidebar": "Contents",
   "toc_cell": false,
   "toc_position": {},
   "toc_section_display": true,
   "toc_window_display": false
  }
 },
 "nbformat": 4,
 "nbformat_minor": 5
}
